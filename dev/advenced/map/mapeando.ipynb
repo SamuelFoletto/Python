{
 "cells": [
  {
   "cell_type": "code",
   "execution_count": 5,
   "id": "initial_id",
   "metadata": {
    "ExecuteTime": {
     "end_time": "2025-06-19T16:48:56.221269Z",
     "start_time": "2025-06-19T16:48:56.215460Z"
    },
    "collapsed": true
   },
   "outputs": [],
   "source": [
    "def quadrado(x):\n",
    "    return x ** 2"
   ]
  },
  {
   "cell_type": "code",
   "execution_count": 6,
   "id": "ad3c2af29b573476",
   "metadata": {
    "ExecuteTime": {
     "end_time": "2025-06-19T16:48:57.259667Z",
     "start_time": "2025-06-19T16:48:57.253575Z"
    }
   },
   "outputs": [],
   "source": [
    "numeros = [1, 2, 3, 4, 5]"
   ]
  },
  {
   "cell_type": "code",
   "execution_count": 3,
   "id": "d2e13abba4b0448f",
   "metadata": {
    "ExecuteTime": {
     "end_time": "2025-06-19T16:47:53.393643Z",
     "start_time": "2025-06-19T16:47:53.389257Z"
    }
   },
   "outputs": [
    {
     "name": "stdout",
     "output_type": "stream",
     "text": [
      "1\n",
      "4\n",
      "9\n",
      "16\n",
      "25\n"
     ]
    }
   ],
   "source": [
    "for n in numeros:\n",
    "    print(quadrado(n))"
   ]
  },
  {
   "cell_type": "code",
   "execution_count": 8,
   "id": "10355a74dffd3543",
   "metadata": {
    "ExecuteTime": {
     "end_time": "2025-06-19T16:49:25.293582Z",
     "start_time": "2025-06-19T16:49:25.286425Z"
    }
   },
   "outputs": [
    {
     "data": {
      "text/plain": [
       "[1, 4, 9, 16, 25]"
      ]
     },
     "execution_count": 8,
     "metadata": {},
     "output_type": "execute_result"
    }
   ],
   "source": [
    "resultados = map(quadrado, numeros)\n",
    "list(resultados)"
   ]
  },
  {
   "cell_type": "code",
   "execution_count": 14,
   "id": "fa5a576524a1cf44",
   "metadata": {
    "ExecuteTime": {
     "end_time": "2025-06-19T16:51:52.187613Z",
     "start_time": "2025-06-19T16:51:52.180477Z"
    }
   },
   "outputs": [],
   "source": [
    "def celsius_fuhrenheit(c):\n",
    "    return (c * 9/5) + 32"
   ]
  },
  {
   "cell_type": "code",
   "execution_count": 15,
   "id": "60e7cbd6453dbd2c",
   "metadata": {
    "ExecuteTime": {
     "end_time": "2025-06-19T16:51:53.297518Z",
     "start_time": "2025-06-19T16:51:53.294634Z"
    }
   },
   "outputs": [],
   "source": [
    "temperaturas_c= [0, 20, 35, 40]"
   ]
  },
  {
   "cell_type": "code",
   "execution_count": 17,
   "id": "c27d82512c5d4ef",
   "metadata": {
    "ExecuteTime": {
     "end_time": "2025-06-19T16:52:11.587674Z",
     "start_time": "2025-06-19T16:52:11.580351Z"
    }
   },
   "outputs": [
    {
     "data": {
      "text/plain": [
       "[32.0, 68.0, 95.0, 104.0]"
      ]
     },
     "execution_count": 17,
     "metadata": {},
     "output_type": "execute_result"
    }
   ],
   "source": [
    "temperaturas_f = map(celsius_fuhrenheit, temperaturas_c)\n",
    "list(temperaturas_f)"
   ]
  },
  {
   "cell_type": "code",
   "execution_count": 1,
   "id": "de6539b227c0713d",
   "metadata": {
    "ExecuteTime": {
     "end_time": "2025-06-19T16:53:12.432120Z",
     "start_time": "2025-06-19T16:53:12.426111Z"
    }
   },
   "outputs": [],
   "source": [
    "def padroniza_nome(nome):\n",
    "    return nome.strip().lower()"
   ]
  },
  {
   "cell_type": "code",
   "execution_count": 2,
   "id": "aaecc16212c2c425",
   "metadata": {
    "ExecuteTime": {
     "end_time": "2025-06-19T16:53:38.101610Z",
     "start_time": "2025-06-19T16:53:38.095868Z"
    }
   },
   "outputs": [],
   "source": [
    "nomes = ['  Samuel', 'FERNANDA', 'João  ', 'MaRiA']"
   ]
  },
  {
   "cell_type": "code",
   "execution_count": 3,
   "id": "35b29eba95059f6",
   "metadata": {
    "ExecuteTime": {
     "end_time": "2025-06-19T16:54:07.696104Z",
     "start_time": "2025-06-19T16:54:07.686142Z"
    }
   },
   "outputs": [
    {
     "data": {
      "text/plain": [
       "['samuel', 'fernanda', 'joão', 'maria']"
      ]
     },
     "execution_count": 3,
     "metadata": {},
     "output_type": "execute_result"
    }
   ],
   "source": [
    "nomes_padronizados = map(padroniza_nome, nomes)\n",
    "list(nomes_padronizados)"
   ]
  }
 ],
 "metadata": {
  "kernelspec": {
   "display_name": "Python 3",
   "language": "python",
   "name": "python3"
  },
  "language_info": {
   "codemirror_mode": {
    "name": "ipython",
    "version": 3
   },
   "file_extension": ".py",
   "mimetype": "text/x-python",
   "name": "python",
   "nbconvert_exporter": "python",
   "pygments_lexer": "ipython3",
   "version": "3.11.13"
  }
 },
 "nbformat": 4,
 "nbformat_minor": 5
}
