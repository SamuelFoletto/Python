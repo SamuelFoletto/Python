{
 "cells": [
  {
   "cell_type": "markdown",
   "id": "350a586c",
   "metadata": {},
   "source": [
    "- Usado para filtrar elemento de um iterável\n"
   ]
  },
  {
   "cell_type": "code",
   "execution_count": 1,
   "id": "27342217",
   "metadata": {},
   "outputs": [],
   "source": [
    "def par(x):\n",
    "    return x % 2 == 0"
   ]
  },
  {
   "cell_type": "code",
   "execution_count": 2,
   "id": "10e8c99a",
   "metadata": {},
   "outputs": [],
   "source": [
    "numeros = [2, 5, 8, 9, 10]"
   ]
  },
  {
   "cell_type": "code",
   "execution_count": 3,
   "id": "44660ec7",
   "metadata": {},
   "outputs": [
    {
     "data": {
      "text/plain": [
       "[2, 8, 10]"
      ]
     },
     "execution_count": 3,
     "metadata": {},
     "output_type": "execute_result"
    }
   ],
   "source": [
    "numeros_pares = filter(par, numeros)\n",
    "list(numeros_pares)"
   ]
  },
  {
   "cell_type": "code",
   "execution_count": 5,
   "id": "ef1c4166",
   "metadata": {},
   "outputs": [],
   "source": [
    "produtos = [\n",
    "    {'nome': 'produto A', 'preco': 10.0, 'em_estoque': True},\n",
    "    {'nome': 'produto B', 'preco': 20.0, 'em_estoque': False},\n",
    "    {'nome': 'produto C', 'preco': 30.0, 'em_estoque': True},\n",
    "    {'nome': 'produto D', 'preco': 40.0, 'em_estoque': False}\n",
    "]\n"
   ]
  },
  {
   "cell_type": "code",
   "execution_count": 6,
   "id": "90a5d79d",
   "metadata": {},
   "outputs": [],
   "source": [
    "def produto_disponivel(produto):\n",
    "    return produto['em_estoque']"
   ]
  },
  {
   "cell_type": "code",
   "execution_count": 7,
   "id": "d24ef82b",
   "metadata": {},
   "outputs": [
    {
     "data": {
      "text/plain": [
       "[{'nome': 'produto A', 'preco': 10.0, 'em_estoque': True},\n",
       " {'nome': 'produto C', 'preco': 30.0, 'em_estoque': True}]"
      ]
     },
     "execution_count": 7,
     "metadata": {},
     "output_type": "execute_result"
    }
   ],
   "source": [
    "produto_disponivel = filter(produto_disponivel, produtos)\n",
    "list(produto_disponivel)"
   ]
  },
  {
   "cell_type": "code",
   "execution_count": 8,
   "id": "2f791b4b",
   "metadata": {},
   "outputs": [],
   "source": [
    "transacoes = [200.0, -50.0, 75.0, -30.0]"
   ]
  },
  {
   "cell_type": "code",
   "execution_count": 9,
   "id": "7d2de131",
   "metadata": {},
   "outputs": [],
   "source": [
    "def despesas(transacoes):\n",
    "    return transacoes < 0"
   ]
  },
  {
   "cell_type": "code",
   "execution_count": 10,
   "id": "1b3fa281",
   "metadata": {},
   "outputs": [
    {
     "data": {
      "text/plain": [
       "[-50.0, -30.0]"
      ]
     },
     "execution_count": 10,
     "metadata": {},
     "output_type": "execute_result"
    }
   ],
   "source": [
    "despesas = filter(despesas, transacoes)\n",
    "list(despesas)"
   ]
  }
 ],
 "metadata": {
  "kernelspec": {
   "display_name": "Python 3",
   "language": "python",
   "name": "python3"
  },
  "language_info": {
   "codemirror_mode": {
    "name": "ipython",
    "version": 3
   },
   "file_extension": ".py",
   "mimetype": "text/x-python",
   "name": "python",
   "nbconvert_exporter": "python",
   "pygments_lexer": "ipython3",
   "version": "3.11.13"
  }
 },
 "nbformat": 4,
 "nbformat_minor": 5
}
