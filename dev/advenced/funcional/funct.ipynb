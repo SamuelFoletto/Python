{
 "cells": [
  {
   "cell_type": "code",
   "execution_count": 1,
   "id": "3b1691c3",
   "metadata": {},
   "outputs": [],
   "source": [
    "def quadrado(x):\n",
    "    return x * x\n",
    "\n",
    "def aplicar_funcao(funcao, lista):\n",
    "    return [funcao(x) for x in lista]\n"
   ]
  },
  {
   "cell_type": "code",
   "execution_count": 2,
   "id": "714a8ccb",
   "metadata": {},
   "outputs": [
    {
     "data": {
      "text/plain": [
       "[1, 4, 9, 16, 25]"
      ]
     },
     "execution_count": 2,
     "metadata": {},
     "output_type": "execute_result"
    }
   ],
   "source": [
    "\n",
    "numeros = [1,2,3,4,5]\n",
    "\n",
    "resultado = aplicar_funcao(quadrado, numeros)\n",
    "\n",
    "resultado"
   ]
  },
  {
   "cell_type": "code",
   "execution_count": 7,
   "id": "9ff673a0",
   "metadata": {},
   "outputs": [],
   "source": [
    "usuarios = [\n",
    "    {'nome' : 'Samuel', 'idade' : 25},\n",
    "    {'nome' : 'Fernanda', 'idade' : 25},\n",
    "    {'nome' : 'João', 'idade' : 13},\n",
    "    {'nome' : 'Maria Eduarda', 'idade' : 14},\n",
    "    \n",
    "]"
   ]
  },
  {
   "cell_type": "code",
   "execution_count": 5,
   "id": "b9753785",
   "metadata": {},
   "outputs": [],
   "source": [
    "def extrao_nomes(usuarios):\n",
    "    return list(map(lambda u: u['nome'], usuarios))\n",
    "\n",
    "def filtrar_maiores(usuarios, idade):\n",
    "    return list(filter(lambda u: u['idade'] > idade, usuarios))\n",
    "\n",
    "def calcular_media_idade(usuarios):\n",
    "    if not usuarios:\n",
    "        return 0\n",
    "    total_idade = sum(map(lambda u: u['idade'], usuarios))\n",
    "    return total_idade / len(usuarios)"
   ]
  },
  {
   "cell_type": "code",
   "execution_count": 9,
   "id": "3418b540",
   "metadata": {},
   "outputs": [
    {
     "data": {
      "text/plain": [
       "[{'nome': 'Samuel', 'idade': 25},\n",
       " {'nome': 'Fernanda', 'idade': 25},\n",
       " {'nome': 'Maria Eduarda', 'idade': 14}]"
      ]
     },
     "execution_count": 9,
     "metadata": {},
     "output_type": "execute_result"
    }
   ],
   "source": [
    "usuarios_maiores = filtrar_maiores(usuarios, 13)\n",
    "usuarios_maiores"
   ]
  },
  {
   "cell_type": "code",
   "execution_count": 10,
   "id": "744a90ef",
   "metadata": {},
   "outputs": [
    {
     "data": {
      "text/plain": [
       "['Samuel', 'Fernanda', 'Maria Eduarda']"
      ]
     },
     "execution_count": 10,
     "metadata": {},
     "output_type": "execute_result"
    }
   ],
   "source": [
    "nomes_maiores = extrao_nomes(usuarios_maiores)\n",
    "nomes_maiores"
   ]
  },
  {
   "cell_type": "code",
   "execution_count": 11,
   "id": "ba157d55",
   "metadata": {},
   "outputs": [
    {
     "data": {
      "text/plain": [
       "21.333333333333332"
      ]
     },
     "execution_count": 11,
     "metadata": {},
     "output_type": "execute_result"
    }
   ],
   "source": [
    "media_idade = calcular_media_idade(usuarios_maiores)\n",
    "media_idade"
   ]
  }
 ],
 "metadata": {
  "kernelspec": {
   "display_name": "Python 3",
   "language": "python",
   "name": "python3"
  },
  "language_info": {
   "codemirror_mode": {
    "name": "ipython",
    "version": 3
   },
   "file_extension": ".py",
   "mimetype": "text/x-python",
   "name": "python",
   "nbconvert_exporter": "python",
   "pygments_lexer": "ipython3",
   "version": "3.11.13"
  }
 },
 "nbformat": 4,
 "nbformat_minor": 5
}
