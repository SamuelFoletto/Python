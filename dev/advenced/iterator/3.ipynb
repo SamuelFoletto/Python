{
 "cells": [
  {
   "cell_type": "code",
   "execution_count": null,
   "id": "initial_id",
   "metadata": {
    "collapsed": true
   },
   "outputs": [],
   "source": "import itertools"
  },
  {
   "metadata": {
    "ExecuteTime": {
     "end_time": "2025-06-19T15:43:08.004206Z",
     "start_time": "2025-06-19T15:43:07.999691Z"
    }
   },
   "cell_type": "code",
   "source": [
    "# Range\n",
    "for i in range(5):\n",
    "    print(i)"
   ],
   "id": "7a30d4584a2e421d",
   "outputs": [
    {
     "name": "stdout",
     "output_type": "stream",
     "text": [
      "0\n",
      "1\n",
      "2\n",
      "3\n",
      "4\n"
     ]
    }
   ],
   "execution_count": 1
  },
  {
   "metadata": {
    "ExecuteTime": {
     "end_time": "2025-06-19T15:43:58.255061Z",
     "start_time": "2025-06-19T15:43:58.246152Z"
    }
   },
   "cell_type": "code",
   "source": [
    "# Iterar lista\n",
    "\n",
    "frutas = ['Maça', 'Banana', 'Laranja']\n",
    "\n",
    "for fruta in frutas:\n",
    "    print(fruta)"
   ],
   "id": "7c4a20149f0e8a8",
   "outputs": [
    {
     "name": "stdout",
     "output_type": "stream",
     "text": [
      "Maça\n",
      "Banana\n",
      "Laranja\n"
     ]
    }
   ],
   "execution_count": 2
  },
  {
   "metadata": {
    "ExecuteTime": {
     "end_time": "2025-06-19T15:46:07.971112Z",
     "start_time": "2025-06-19T15:46:07.965220Z"
    }
   },
   "cell_type": "code",
   "source": [
    "# Iterar dicionário\n",
    "\n",
    "pessoa = {'nome' : 'Samuel', 'idade' : 25}\n",
    "\n",
    "for chave in pessoa:\n",
    "    print(chave)"
   ],
   "id": "f6083d37f8b6fdbb",
   "outputs": [
    {
     "name": "stdout",
     "output_type": "stream",
     "text": [
      "nome\n",
      "idade\n"
     ]
    }
   ],
   "execution_count": 7
  },
  {
   "metadata": {
    "ExecuteTime": {
     "end_time": "2025-06-19T15:47:17.598928Z",
     "start_time": "2025-06-19T15:47:17.591155Z"
    }
   },
   "cell_type": "code",
   "source": [
    "# enumerate\n",
    "\n",
    "for indice, fruta in enumerate(frutas):\n",
    "    print(indice, fruta)"
   ],
   "id": "359ac58c0cf33fb3",
   "outputs": [
    {
     "name": "stdout",
     "output_type": "stream",
     "text": [
      "0 Maça\n",
      "1 Banana\n",
      "2 Laranja\n"
     ]
    }
   ],
   "execution_count": 8
  },
  {
   "metadata": {
    "ExecuteTime": {
     "end_time": "2025-06-19T15:48:23.039500Z",
     "start_time": "2025-06-19T15:48:23.029500Z"
    }
   },
   "cell_type": "code",
   "source": [
    "# Zip()\n",
    "\n",
    "nomes = ['Samuel', 'Fernanda', 'João']\n",
    "idades = [25, 25, 13]\n",
    "\n",
    "for nome, idade in zip(nomes, idades):\n",
    "    print(nome, idade)"
   ],
   "id": "f72a6da2ebf14bcd",
   "outputs": [
    {
     "name": "stdout",
     "output_type": "stream",
     "text": [
      "Samuel 25\n",
      "Fernanda 25\n",
      "João 13\n"
     ]
    }
   ],
   "execution_count": 9
  },
  {
   "metadata": {
    "ExecuteTime": {
     "end_time": "2025-06-19T15:50:01.416013Z",
     "start_time": "2025-06-19T15:50:01.409260Z"
    }
   },
   "cell_type": "code",
   "source": [
    "# Itertools\n",
    "import itertools\n",
    "\n",
    "for i in itertools.count(start=10, step=2):\n",
    "    if i > 20:\n",
    "        break\n",
    "    print(i)"
   ],
   "id": "fb44038fd6b4dd5d",
   "outputs": [
    {
     "name": "stdout",
     "output_type": "stream",
     "text": [
      "10\n",
      "12\n",
      "14\n",
      "16\n",
      "18\n",
      "20\n"
     ]
    }
   ],
   "execution_count": 13
  }
 ],
 "metadata": {
  "kernelspec": {
   "display_name": "Python 3",
   "language": "python",
   "name": "python3"
  },
  "language_info": {
   "codemirror_mode": {
    "name": "ipython",
    "version": 2
   },
   "file_extension": ".py",
   "mimetype": "text/x-python",
   "name": "python",
   "nbconvert_exporter": "python",
   "pygments_lexer": "ipython2",
   "version": "2.7.6"
  }
 },
 "nbformat": 4,
 "nbformat_minor": 5
}
