{
 "cells": [
  {
   "cell_type": "code",
   "id": "initial_id",
   "metadata": {
    "collapsed": true,
    "ExecuteTime": {
     "end_time": "2025-06-19T15:40:06.514989Z",
     "start_time": "2025-06-19T15:40:06.507667Z"
    }
   },
   "source": [
    "class NomeComLetra:\n",
    "    def __init__(self, nomes, letra):\n",
    "        self.nomes = nomes\n",
    "        self.letra = letra\n",
    "        self.index = 0\n",
    "\n",
    "    def __iter__(self):\n",
    "        return self\n",
    "\n",
    "    def __next__(self):\n",
    "        while self.index < len(self.nomes):\n",
    "            nome = self.nomes[self.index]\n",
    "            self.index += 1\n",
    "            if nome.startswith(self.letra):\n",
    "                return nome\n",
    "        raise StopIteration"
   ],
   "outputs": [],
   "execution_count": 1
  },
  {
   "metadata": {
    "ExecuteTime": {
     "end_time": "2025-06-19T15:41:58.422893Z",
     "start_time": "2025-06-19T15:41:58.414804Z"
    }
   },
   "cell_type": "code",
   "source": [
    "lista_nomes = ['Samuel', 'Fernanda', 'João', 'Maria', 'Maricley', 'Rogério']\n",
    "\n",
    "letra = 'B'\n",
    "\n",
    "iterador_nomes = NomeComLetra(lista_nomes, letra)\n",
    "\n",
    "for nome in iterador_nomes:\n",
    "    print(nome)"
   ],
   "id": "549e9bc2ae915cc7",
   "outputs": [],
   "execution_count": 4
  }
 ],
 "metadata": {
  "kernelspec": {
   "display_name": "Python 3",
   "language": "python",
   "name": "python3"
  },
  "language_info": {
   "codemirror_mode": {
    "name": "ipython",
    "version": 2
   },
   "file_extension": ".py",
   "mimetype": "text/x-python",
   "name": "python",
   "nbconvert_exporter": "python",
   "pygments_lexer": "ipython2",
   "version": "2.7.6"
  }
 },
 "nbformat": 4,
 "nbformat_minor": 5
}
