{
 "cells": [
  {
   "cell_type": "code",
   "id": "initial_id",
   "metadata": {
    "collapsed": true,
    "ExecuteTime": {
     "end_time": "2025-06-19T16:42:15.200283Z",
     "start_time": "2025-06-19T16:42:15.196152Z"
    }
   },
   "source": "import re",
   "outputs": [],
   "execution_count": 3
  },
  {
   "metadata": {
    "ExecuteTime": {
     "end_time": "2025-06-19T16:42:16.501503Z",
     "start_time": "2025-06-19T16:42:16.493020Z"
    }
   },
   "cell_type": "code",
   "source": [
    "def explorar_expressoes(texto):\n",
    "    padrao = r'\\bPython\\b'\n",
    "    if re.search(padrao, texto):\n",
    "        print('Padrão encontrado')\n",
    "    else:\n",
    "        print('Padrão não encontrado')"
   ],
   "id": "2203a20f6955d454",
   "outputs": [],
   "execution_count": 4
  },
  {
   "metadata": {
    "ExecuteTime": {
     "end_time": "2025-06-19T16:42:47.618137Z",
     "start_time": "2025-06-19T16:42:47.612532Z"
    }
   },
   "cell_type": "code",
   "source": [
    "texto = 'Olá, sou um desenvolvedor Python'\n",
    "\n",
    "explorar_expressoes(texto)"
   ],
   "id": "5303ea9bbc2fd083",
   "outputs": [
    {
     "name": "stdout",
     "output_type": "stream",
     "text": [
      "Padrão encontrado\n"
     ]
    }
   ],
   "execution_count": 5
  }
 ],
 "metadata": {
  "kernelspec": {
   "display_name": "Python 3",
   "language": "python",
   "name": "python3"
  },
  "language_info": {
   "codemirror_mode": {
    "name": "ipython",
    "version": 2
   },
   "file_extension": ".py",
   "mimetype": "text/x-python",
   "name": "python",
   "nbconvert_exporter": "python",
   "pygments_lexer": "ipython2",
   "version": "2.7.6"
  }
 },
 "nbformat": 4,
 "nbformat_minor": 5
}
