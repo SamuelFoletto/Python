{
 "cells": [
  {
   "cell_type": "code",
   "id": "initial_id",
   "metadata": {
    "collapsed": true,
    "ExecuteTime": {
     "end_time": "2025-06-19T16:26:36.964502Z",
     "start_time": "2025-06-19T16:26:36.950916Z"
    }
   },
   "source": [
    "def linhas_e_palavras(arquivo, numero):\n",
    "    with open(arquivo, 'r', encoding='utf-8') as file:\n",
    "        for linha in file:\n",
    "            if len(linha.split()) == numero:\n",
    "                yield linha.strip()"
   ],
   "outputs": [],
   "execution_count": 1
  },
  {
   "metadata": {
    "ExecuteTime": {
     "end_time": "2025-06-19T16:27:29.915020Z",
     "start_time": "2025-06-19T16:27:29.908003Z"
    }
   },
   "cell_type": "code",
   "source": [
    "arquivo = 'texto.txt'\n",
    "\n",
    "numero_palavras = 3\n",
    "\n",
    "for linha in linhas_e_palavras(arquivo, numero_palavras):\n",
    "    print(linha)"
   ],
   "id": "c614bab6bcaf643d",
   "outputs": [
    {
     "name": "stdout",
     "output_type": "stream",
     "text": [
      "Python é fácil\n",
      "Ruby é legal\n"
     ]
    }
   ],
   "execution_count": 3
  }
 ],
 "metadata": {
  "kernelspec": {
   "display_name": "Python 3",
   "language": "python",
   "name": "python3"
  },
  "language_info": {
   "codemirror_mode": {
    "name": "ipython",
    "version": 2
   },
   "file_extension": ".py",
   "mimetype": "text/x-python",
   "name": "python",
   "nbconvert_exporter": "python",
   "pygments_lexer": "ipython2",
   "version": "2.7.6"
  }
 },
 "nbformat": 4,
 "nbformat_minor": 5
}
