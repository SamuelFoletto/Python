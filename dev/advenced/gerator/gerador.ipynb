{
 "cells": [
  {
   "cell_type": "code",
   "id": "initial_id",
   "metadata": {
    "collapsed": true,
    "ExecuteTime": {
     "end_time": "2025-06-19T16:23:27.376576Z",
     "start_time": "2025-06-19T16:23:27.370028Z"
    }
   },
   "source": [
    "def numeros_impares(n):\n",
    "    for i in range(1, n+1, 2):\n",
    "        yield i"
   ],
   "outputs": [],
   "execution_count": 3
  },
  {
   "metadata": {
    "ExecuteTime": {
     "end_time": "2025-06-19T16:23:28.686661Z",
     "start_time": "2025-06-19T16:23:28.679664Z"
    }
   },
   "cell_type": "code",
   "source": [
    "for numero in numeros_impares(10):\n",
    "    print(numero)"
   ],
   "id": "484100f88645cddc",
   "outputs": [
    {
     "name": "stdout",
     "output_type": "stream",
     "text": [
      "1\n",
      "3\n",
      "5\n",
      "7\n",
      "9\n"
     ]
    }
   ],
   "execution_count": 4
  }
 ],
 "metadata": {
  "kernelspec": {
   "display_name": "Python 3",
   "language": "python",
   "name": "python3"
  },
  "language_info": {
   "codemirror_mode": {
    "name": "ipython",
    "version": 2
   },
   "file_extension": ".py",
   "mimetype": "text/x-python",
   "name": "python",
   "nbconvert_exporter": "python",
   "pygments_lexer": "ipython2",
   "version": "2.7.6"
  }
 },
 "nbformat": 4,
 "nbformat_minor": 5
}
