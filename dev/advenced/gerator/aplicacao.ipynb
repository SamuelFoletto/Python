{
 "cells": [
  {
   "metadata": {
    "ExecuteTime": {
     "end_time": "2025-06-19T16:39:47.004051Z",
     "start_time": "2025-06-19T16:39:46.992810Z"
    }
   },
   "cell_type": "code",
   "source": [
    "from Xlib.Xcursorfont import top_left_arrow\n",
    "\n",
    "\n",
    "class VendasIterator:\n",
    "    def __init__(self, arquivo):\n",
    "        self.arquivo = arquivo\n",
    "        self.file = open(arquivo, 'r', encoding='utf-8')\n",
    "\n",
    "    def __iter__(self):\n",
    "        return self\n",
    "\n",
    "    def __next__(self):\n",
    "        linha = self.file.readline()\n",
    "        if not linha:\n",
    "            self.file.close()\n",
    "            raise StopIteration\n",
    "\n",
    "        categoria, valor = linha.strip().split(',')\n",
    "        return categoria, float(valor)"
   ],
   "id": "793c2d29b5c7a6ac",
   "outputs": [],
   "execution_count": 9
  },
  {
   "metadata": {
    "ExecuteTime": {
     "end_time": "2025-06-19T16:39:48.359586Z",
     "start_time": "2025-06-19T16:39:48.354690Z"
    }
   },
   "cell_type": "code",
   "source": [
    "def gerador_soma_vendas(arquivo):\n",
    "    total_vendas = 0\n",
    "    for categoria, valor in VendasIterator(arquivo):\n",
    "        total_vendas += valor\n",
    "        yield categoria, valor, total_vendas"
   ],
   "id": "951a3752713d150b",
   "outputs": [],
   "execution_count": 10
  },
  {
   "metadata": {
    "ExecuteTime": {
     "end_time": "2025-06-19T16:39:49.320869Z",
     "start_time": "2025-06-19T16:39:49.309870Z"
    }
   },
   "cell_type": "code",
   "source": [
    "contagem_vendas = {}\n",
    "arquivo = 'vendas.txt'\n",
    "print('Provessando vendas....')\n",
    "for categoria, valor, total in gerador_soma_vendas(arquivo):\n",
    "    print(f'Categoria: {categoria}, Valor: R${valor:.2f}, Total: R${total:.2f}')\n",
    "\n",
    "    if categoria not in contagem_vendas:\n",
    "        contagem_vendas[categoria] = 0\n",
    "    contagem_vendas[categoria] += 1\n",
    "\n",
    "for categoria, contagem in contagem_vendas.items():\n",
    "    print(f'{categoria}: {contagem} vendas')"
   ],
   "id": "aaf6c7d182805e4a",
   "outputs": [
    {
     "name": "stdout",
     "output_type": "stream",
     "text": [
      "Provessando vendas....\n",
      "Categoria: Eletrônicos, Valor: R$400.00, Total: R$400.00\n",
      "Categoria: Roupas, Valor: R$150.00, Total: R$550.00\n",
      "Categoria: Eletrônicos, Valor: R$250.00, Total: R$800.00\n",
      "Categoria: Alimentos, Valor: R$200.00, Total: R$1000.00\n",
      "Categoria: Roupas, Valor: R$200.00, Total: R$1200.00\n",
      "Categoria: Eletrônicos, Valor: R$100.00, Total: R$1300.00\n",
      "Eletrônicos: 3 vendas\n",
      "Roupas: 2 vendas\n",
      "Alimentos: 1 vendas\n"
     ]
    }
   ],
   "execution_count": 11
  }
 ],
 "metadata": {
  "kernelspec": {
   "display_name": "Python 3",
   "language": "python",
   "name": "python3"
  },
  "language_info": {
   "codemirror_mode": {
    "name": "ipython",
    "version": 2
   },
   "file_extension": ".py",
   "mimetype": "text/x-python",
   "name": "python",
   "nbconvert_exporter": "python",
   "pygments_lexer": "ipython2",
   "version": "2.7.6"
  }
 },
 "nbformat": 4,
 "nbformat_minor": 5
}
